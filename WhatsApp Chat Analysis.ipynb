{
 "cells": [
  {
   "cell_type": "code",
   "execution_count": null,
   "id": "77382f5e",
   "metadata": {},
   "outputs": [],
   "source": [
    "import re\n",
    "import pandas as pd"
   ]
  },
  {
   "cell_type": "code",
   "execution_count": null,
   "id": "375d5614",
   "metadata": {},
   "outputs": [],
   "source": [
    "f=open('WhatsApp Chat with Pro Megh Ros.txt','r',encoding='utf-8')"
   ]
  },
  {
   "cell_type": "code",
   "execution_count": null,
   "id": "79d8de14",
   "metadata": {},
   "outputs": [],
   "source": [
    "data=f.read()"
   ]
  },
  {
   "cell_type": "code",
   "execution_count": null,
   "id": "282674e8",
   "metadata": {},
   "outputs": [],
   "source": [
    "print(data)"
   ]
  },
  {
   "cell_type": "code",
   "execution_count": null,
   "id": "9c45237b",
   "metadata": {},
   "outputs": [],
   "source": [
    "pattern = '\\d{1,2}/\\d{1,2}/\\d{2,4},\\s\\d{1,2}:\\d{2}\\s-\\s'"
   ]
  },
  {
   "cell_type": "code",
   "execution_count": null,
   "id": "835ddf6e",
   "metadata": {},
   "outputs": [],
   "source": [
    "messages = re.split(pattern,data)[1:]\n",
    "messages"
   ]
  },
  {
   "cell_type": "code",
   "execution_count": null,
   "id": "2b915a60",
   "metadata": {},
   "outputs": [],
   "source": [
    "dates = re.findall(pattern,data)\n",
    "dates"
   ]
  },
  {
   "cell_type": "code",
   "execution_count": null,
   "id": "de08ba2d",
   "metadata": {},
   "outputs": [],
   "source": [
    "df = pd.DataFrame({'user_message':messages, 'message_date':dates})"
   ]
  },
  {
   "cell_type": "code",
   "execution_count": null,
   "id": "caaaed36",
   "metadata": {},
   "outputs": [],
   "source": [
    "df"
   ]
  },
  {
   "cell_type": "code",
   "execution_count": null,
   "id": "828406a7",
   "metadata": {},
   "outputs": [],
   "source": [
    "# converting message date-type\n",
    "df['message_date']=pd.to_datetime(df['message_date'],format='%d/%m/%Y, %H:%M - ')"
   ]
  },
  {
   "cell_type": "code",
   "execution_count": null,
   "id": "a6ce9872",
   "metadata": {},
   "outputs": [],
   "source": [
    "df"
   ]
  },
  {
   "cell_type": "code",
   "execution_count": null,
   "id": "3a98e69b",
   "metadata": {},
   "outputs": [],
   "source": [
    "#renaming the column\n",
    "df.rename(columns={'message_date' : 'date'},inplace=True)\n",
    "\n",
    "df.head()"
   ]
  },
  {
   "cell_type": "code",
   "execution_count": null,
   "id": "54a086bc",
   "metadata": {},
   "outputs": [],
   "source": [
    "df.shape"
   ]
  },
  {
   "cell_type": "code",
   "execution_count": null,
   "id": "3de71fde",
   "metadata": {},
   "outputs": [],
   "source": [
    "# separating users and messages\n",
    "\n",
    "users=[]\n",
    "messages=[]\n",
    "\n",
    "for message in df['user_message']:\n",
    "    entry = re.split('([\\w\\W]+?):\\s', message)\n",
    "    if entry[1:]: #user_name\n",
    "        users.append(entry[1])\n",
    "        messages.append(entry[2])\n",
    "    else:\n",
    "        users.append('group_notification')\n",
    "        messages.append(entry[0])\n",
    "\n",
    "df['user']=users\n",
    "df['message']=messages\n",
    "df.drop(columns=['user_message'],inplace=True)  #removing the prev. column\n",
    "\n",
    "df.head()"
   ]
  },
  {
   "cell_type": "code",
   "execution_count": null,
   "id": "1d404b26",
   "metadata": {},
   "outputs": [],
   "source": [
    "df['date'].dt.year"
   ]
  },
  {
   "cell_type": "code",
   "execution_count": null,
   "id": "2078ad7b",
   "metadata": {},
   "outputs": [],
   "source": [
    "df['year']=df['date'].dt.year"
   ]
  },
  {
   "cell_type": "code",
   "execution_count": null,
   "id": "ecc3153a",
   "metadata": {},
   "outputs": [],
   "source": [
    "df"
   ]
  },
  {
   "cell_type": "code",
   "execution_count": null,
   "id": "8bf2bdf4",
   "metadata": {},
   "outputs": [],
   "source": [
    "df['month']=df['date'].dt.month_name()"
   ]
  },
  {
   "cell_type": "code",
   "execution_count": null,
   "id": "a826f146",
   "metadata": {},
   "outputs": [],
   "source": [
    "df.head()"
   ]
  },
  {
   "cell_type": "code",
   "execution_count": null,
   "id": "a5988a0c",
   "metadata": {},
   "outputs": [],
   "source": [
    "df['day']=df['date'].dt.day"
   ]
  },
  {
   "cell_type": "code",
   "execution_count": null,
   "id": "6f734def",
   "metadata": {},
   "outputs": [],
   "source": [
    "df['hour']=df['date'].dt.hour"
   ]
  },
  {
   "cell_type": "code",
   "execution_count": null,
   "id": "361e02de",
   "metadata": {},
   "outputs": [],
   "source": [
    "df['minute']=df['date'].dt.minute"
   ]
  },
  {
   "cell_type": "code",
   "execution_count": null,
   "id": "5a581c57",
   "metadata": {},
   "outputs": [],
   "source": [
    "df.head()"
   ]
  },
  {
   "cell_type": "code",
   "execution_count": null,
   "id": "f547bce5",
   "metadata": {},
   "outputs": [],
   "source": [
    "df['user'].unique().tolist()"
   ]
  },
  {
   "cell_type": "code",
   "execution_count": null,
   "id": "7b1d5f49",
   "metadata": {},
   "outputs": [],
   "source": [
    "df.shape[0]"
   ]
  },
  {
   "cell_type": "code",
   "execution_count": null,
   "id": "58a62ff2",
   "metadata": {},
   "outputs": [],
   "source": [
    "df[df['user']=='Projna'].shape"
   ]
  },
  {
   "cell_type": "code",
   "execution_count": null,
   "id": "ceadfb55",
   "metadata": {},
   "outputs": [],
   "source": [
    "words=[]\n",
    "for message in df['message']:\n",
    "    words.extend(message.split())"
   ]
  },
  {
   "cell_type": "code",
   "execution_count": null,
   "id": "4beed68c",
   "metadata": {},
   "outputs": [],
   "source": [
    "len(words)"
   ]
  },
  {
   "cell_type": "code",
   "execution_count": null,
   "id": "478c91e6",
   "metadata": {},
   "outputs": [],
   "source": [
    "df[df['message']=='<Media omitted>\\n'].shape[0]"
   ]
  },
  {
   "cell_type": "code",
   "execution_count": null,
   "id": "0200f78f",
   "metadata": {},
   "outputs": [],
   "source": [
    "pip install urlextract"
   ]
  },
  {
   "cell_type": "code",
   "execution_count": null,
   "id": "07c8a6c9",
   "metadata": {},
   "outputs": [],
   "source": [
    "from urlextract import URLExtract"
   ]
  },
  {
   "cell_type": "code",
   "execution_count": null,
   "id": "b003f8a4",
   "metadata": {},
   "outputs": [],
   "source": [
    "extractor=URLExtract()\n",
    "urls=extractor.find_urls(\"hello world www.google.com stackoverflow.com www.youtube.com\")\n",
    "urls"
   ]
  },
  {
   "cell_type": "code",
   "execution_count": null,
   "id": "1885658b",
   "metadata": {},
   "outputs": [],
   "source": [
    "links=[]\n",
    "for message in df['message']:\n",
    "    links.extend(extractor.find_urls(message))\n",
    "print(links)    "
   ]
  },
  {
   "cell_type": "code",
   "execution_count": null,
   "id": "3322338e",
   "metadata": {},
   "outputs": [],
   "source": [
    "len(links)"
   ]
  },
  {
   "cell_type": "code",
   "execution_count": null,
   "id": "390088a4",
   "metadata": {},
   "outputs": [],
   "source": [
    "df['user'].value_counts().head()"
   ]
  },
  {
   "cell_type": "code",
   "execution_count": null,
   "id": "e32a3258",
   "metadata": {},
   "outputs": [],
   "source": [
    "import matplotlib.pyplot as plt"
   ]
  },
  {
   "cell_type": "code",
   "execution_count": null,
   "id": "969b64bd",
   "metadata": {},
   "outputs": [],
   "source": [
    "x = df['user'].value_counts().head()\n",
    "name = x.index\n",
    "count= x.values\n",
    "\n",
    "plt.bar(name,count)\n",
    "plt.xticks(rotation='vertical')\n",
    "plt.show()"
   ]
  },
  {
   "cell_type": "code",
   "execution_count": null,
   "id": "c4df61fe",
   "metadata": {},
   "outputs": [],
   "source": [
    "round((df['user'].value_counts().head()/df.shape[0])*100,2).reset_index().rename(columns={'user':'name','count':'percent'})"
   ]
  },
  {
   "cell_type": "code",
   "execution_count": null,
   "id": "3b92ad8e",
   "metadata": {},
   "outputs": [],
   "source": [
    "df['message'].str.cat(sep=\" \")"
   ]
  },
  {
   "cell_type": "code",
   "execution_count": null,
   "id": "f5fa8e61",
   "metadata": {},
   "outputs": [],
   "source": [
    "words = []\n",
    "for message in df['message']:\n",
    "    words.extend(message.split())"
   ]
  },
  {
   "cell_type": "code",
   "execution_count": null,
   "id": "55b3bf34",
   "metadata": {},
   "outputs": [],
   "source": [
    "words"
   ]
  },
  {
   "cell_type": "code",
   "execution_count": null,
   "id": "f001ab6e",
   "metadata": {},
   "outputs": [],
   "source": [
    "pip install Collection"
   ]
  },
  {
   "cell_type": "code",
   "execution_count": null,
   "id": "c147ed76",
   "metadata": {},
   "outputs": [],
   "source": [
    "from collections import Counter\n",
    "Counter(words)"
   ]
  },
  {
   "cell_type": "code",
   "execution_count": null,
   "id": "99325531",
   "metadata": {},
   "outputs": [],
   "source": [
    "pd.DataFrame(Counter(words).most_common(20))"
   ]
  },
  {
   "cell_type": "code",
   "execution_count": null,
   "id": "5f9b0b49",
   "metadata": {},
   "outputs": [],
   "source": [
    "# remove group_notification\n",
    "# remove media omitted messages\n",
    "# remove stop words"
   ]
  },
  {
   "cell_type": "code",
   "execution_count": null,
   "id": "bf9806d8",
   "metadata": {},
   "outputs": [],
   "source": [
    "temp=df[df['user']!='group_notification']\n",
    "temp=temp[temp['message']!='<Media omitted>\\n']"
   ]
  },
  {
   "cell_type": "code",
   "execution_count": null,
   "id": "5ee4ca2f",
   "metadata": {
    "scrolled": false
   },
   "outputs": [],
   "source": [
    "f=open('stop_stopwords.txt','r',encoding='utf-8')\n",
    "stop_words=f.read()\n",
    "# print(stop_words)"
   ]
  },
  {
   "cell_type": "code",
   "execution_count": null,
   "id": "e3d1f161",
   "metadata": {},
   "outputs": [],
   "source": [
    "words = []\n",
    "for message in temp['message']:\n",
    "    for word in message.lower().split():\n",
    "        if word not in stop_words:\n",
    "            words.append(word)"
   ]
  },
  {
   "cell_type": "code",
   "execution_count": null,
   "id": "756d927d",
   "metadata": {},
   "outputs": [],
   "source": [
    "from collections import Counter\n",
    "pd.DataFrame(Counter(words).most_common(20))"
   ]
  },
  {
   "cell_type": "code",
   "execution_count": null,
   "id": "024ad26c",
   "metadata": {},
   "outputs": [],
   "source": [
    "\" \".join([\"hello\",\"world\",\"to\",\"all\"])"
   ]
  },
  {
   "cell_type": "code",
   "execution_count": null,
   "id": "3afe0ff5",
   "metadata": {},
   "outputs": [],
   "source": [
    "df['month_num']=df['date'].dt.month"
   ]
  },
  {
   "cell_type": "code",
   "execution_count": null,
   "id": "0bd783af",
   "metadata": {},
   "outputs": [],
   "source": [
    "df.head()"
   ]
  },
  {
   "cell_type": "code",
   "execution_count": null,
   "id": "d55c41f1",
   "metadata": {},
   "outputs": [],
   "source": [
    "timeline=df.groupby(['year','month_num','month']).count()['message'].reset_index()\n",
    "timeline"
   ]
  },
  {
   "cell_type": "code",
   "execution_count": null,
   "id": "bd8668f1",
   "metadata": {},
   "outputs": [],
   "source": [
    "time = []\n",
    "for i in range(timeline.shape[0]):\n",
    "    time.append(timeline['month'][i] + '-' + str(timeline['year'][i]))"
   ]
  },
  {
   "cell_type": "code",
   "execution_count": null,
   "id": "29808b32",
   "metadata": {},
   "outputs": [],
   "source": [
    "timeline['time']=time"
   ]
  },
  {
   "cell_type": "code",
   "execution_count": null,
   "id": "f65d4d64",
   "metadata": {},
   "outputs": [],
   "source": [
    "timeline"
   ]
  },
  {
   "cell_type": "code",
   "execution_count": null,
   "id": "c24b9c52",
   "metadata": {},
   "outputs": [],
   "source": [
    "plt.plot(timeline['time'],timeline['message'])\n",
    "plt.xticks(rotation=\"vertical\")\n",
    "plt.show()"
   ]
  },
  {
   "cell_type": "code",
   "execution_count": null,
   "id": "abd82685",
   "metadata": {},
   "outputs": [],
   "source": [
    "df['only_date']=df['date'].dt.date"
   ]
  },
  {
   "cell_type": "code",
   "execution_count": null,
   "id": "9e044261",
   "metadata": {},
   "outputs": [],
   "source": [
    "daily_timeline = df.groupby('only_date').count()['message'].reset_index()"
   ]
  },
  {
   "cell_type": "code",
   "execution_count": null,
   "id": "7eacfc03",
   "metadata": {},
   "outputs": [],
   "source": [
    "plt.figure(figsize=(18,10))\n",
    "plt.plot(daily_timeline['only_date'],daily_timeline['message'])\n",
    "plt.xticks(rotation='vertical')"
   ]
  },
  {
   "cell_type": "code",
   "execution_count": null,
   "id": "f729bf1a",
   "metadata": {},
   "outputs": [],
   "source": [
    "df.head()"
   ]
  },
  {
   "cell_type": "code",
   "execution_count": null,
   "id": "fdf9139e",
   "metadata": {},
   "outputs": [],
   "source": [
    "df['day_name']=df['date'].dt.day_name()"
   ]
  },
  {
   "cell_type": "code",
   "execution_count": null,
   "id": "0893c395",
   "metadata": {},
   "outputs": [],
   "source": [
    "df['day_name'].value_counts()"
   ]
  },
  {
   "cell_type": "code",
   "execution_count": null,
   "id": "276cd3d2",
   "metadata": {},
   "outputs": [],
   "source": [
    "type(df['day_name'].value_counts())"
   ]
  },
  {
   "cell_type": "code",
   "execution_count": null,
   "id": "ee567bf1",
   "metadata": {},
   "outputs": [],
   "source": [
    "df['month'].value_counts()"
   ]
  },
  {
   "cell_type": "code",
   "execution_count": null,
   "id": "4868ea38",
   "metadata": {},
   "outputs": [],
   "source": [
    "df[['day_name','hour']]"
   ]
  },
  {
   "cell_type": "code",
   "execution_count": null,
   "id": "8b7cfdaa",
   "metadata": {},
   "outputs": [],
   "source": [
    "df[['day_name','hour']]['hour']"
   ]
  },
  {
   "cell_type": "code",
   "execution_count": null,
   "id": "6fa6b10f",
   "metadata": {},
   "outputs": [],
   "source": [
    "period=[]\n",
    "for hour in df[['day_name','hour']]['hour']:\n",
    "    if hour==23:\n",
    "        period.append(str(hour) + \"-\" + str(\"00\"))\n",
    "    elif hour==0:\n",
    "        period.append(str(\"00\") + \"-\" + str(hour+1))\n",
    "    else:\n",
    "        period.append(str(hour) + \"-\" + str(hour+1))"
   ]
  },
  {
   "cell_type": "code",
   "execution_count": null,
   "id": "ff81a8d8",
   "metadata": {},
   "outputs": [],
   "source": [
    "period"
   ]
  },
  {
   "cell_type": "code",
   "execution_count": null,
   "id": "76936fcd",
   "metadata": {},
   "outputs": [],
   "source": [
    "df['period']=period"
   ]
  },
  {
   "cell_type": "code",
   "execution_count": null,
   "id": "d899e45b",
   "metadata": {},
   "outputs": [],
   "source": [
    "df.head()"
   ]
  },
  {
   "cell_type": "code",
   "execution_count": null,
   "id": "e5a95885",
   "metadata": {},
   "outputs": [],
   "source": [
    "import seaborn as sns"
   ]
  },
  {
   "cell_type": "code",
   "execution_count": null,
   "id": "0f9e084a",
   "metadata": {},
   "outputs": [],
   "source": [
    "df.pivot_table(index='day_name',columns='period',values='message',aggfunc='count').fillna(0)"
   ]
  },
  {
   "cell_type": "code",
   "execution_count": null,
   "id": "817b8276",
   "metadata": {},
   "outputs": [],
   "source": [
    "plt.figure(figsize=(20,6))\n",
    "sns.heatmap(df.pivot_table(index='day_name',columns='period',values='message',aggfunc='count').fillna(0))\n",
    "plt.xticks(rotation='horizontal')\n",
    "plt.show()"
   ]
  },
  {
   "cell_type": "code",
   "execution_count": null,
   "id": "ff9e206f",
   "metadata": {},
   "outputs": [],
   "source": []
  }
 ],
 "metadata": {
  "kernelspec": {
   "display_name": "Python 3 (ipykernel)",
   "language": "python",
   "name": "python3"
  },
  "language_info": {
   "codemirror_mode": {
    "name": "ipython",
    "version": 3
   },
   "file_extension": ".py",
   "mimetype": "text/x-python",
   "name": "python",
   "nbconvert_exporter": "python",
   "pygments_lexer": "ipython3",
   "version": "3.11.3"
  }
 },
 "nbformat": 4,
 "nbformat_minor": 5
}
